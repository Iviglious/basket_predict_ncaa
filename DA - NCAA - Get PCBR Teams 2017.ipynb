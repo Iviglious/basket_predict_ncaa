{
 "cells": [
  {
   "cell_type": "markdown",
   "metadata": {},
   "source": [
    "# DA - March Machine Learning Mania 2017\n",
    "\n",
    "## Get the stats for the teams playing in 2017"
   ]
  },
  {
   "cell_type": "code",
   "execution_count": 1,
   "metadata": {
    "collapsed": true
   },
   "outputs": [],
   "source": [
    "import numpy as np\n",
    "import pandas as pd"
   ]
  },
  {
   "cell_type": "code",
   "execution_count": 2,
   "metadata": {
    "collapsed": false
   },
   "outputs": [
    {
     "name": "stdout",
     "output_type": "stream",
     "text": [
      "   Team_Id Team_Name\n",
      "0     1112   Arizona\n",
      "1     1116  Arkansas\n",
      "2     1124    Baylor\n",
      "3     1137  Bucknell\n",
      "4     1139    Butler\n",
      "    Team_Id      Team_Name\n",
      "63     1452  West Virginia\n",
      "64     1455     Wichita St\n",
      "65     1457       Winthrop\n",
      "66     1458      Wisconsin\n",
      "67     1462         Xavier\n"
     ]
    }
   ],
   "source": [
    "teams_df = pd.read_csv('dataset/Teams2017.csv') # just the teams of year 2017 (68)\n",
    "#teams_df = pd.read_csv('dataset/Teams.csv') # all teams (364)\n",
    "print(teams_df.head())\n",
    "print(teams_df.tail())"
   ]
  },
  {
   "cell_type": "code",
   "execution_count": 3,
   "metadata": {
    "collapsed": false
   },
   "outputs": [],
   "source": [
    "# Parse files with stats\n",
    "stats_df = pd.DataFrame()\n",
    "all_stats_df = pd.DataFrame()\n",
    "for yy in range(2002,2016):\n",
    "    stats_df = pd.read_csv('dataset/kenpom/PCBR_{}.csv'.format(yy))\n",
    "    stats_df['Season'] = yy\n",
    "    #stats_df['TName'] = stats_df['Team'].str.replace(r'\\xc2\\xa0[0-9]+','')\n",
    "    stats_df = pd.merge(stats_df, teams_df, how='right', left_on='Team', right_on='Team_Name')\n",
    "    all_stats_df = pd.concat([all_stats_df, stats_df])"
   ]
  },
  {
   "cell_type": "code",
   "execution_count": 8,
   "metadata": {
    "collapsed": false
   },
   "outputs": [
    {
     "name": "stdout",
     "output_type": "stream",
     "text": [
      "Unique matched teams: 68\n",
      "Number of all stats rows: 966\n"
     ]
    }
   ],
   "source": [
    "# Show just a count of teams after the join. It should be 68 - all\n",
    "print('Unique matched teams: {}'.format(all_stats_df['Team_Name'].unique().size))\n",
    "#print('Not matched teams:')\n",
    "#all_stats_df.loc[all_stats_df['Team_Id'].isnull()]['Team'].unique()\n",
    "print('Number of all stats rows: {}'.format(all_stats_df['Team_Name'].count()))\n",
    "\n",
    "# save to a file these stats\n",
    "all_stats_df.to_csv(path_or_buf='dataset/All_PCBR_For_Teams2017.csv', index=False)"
   ]
  },
  {
   "cell_type": "code",
   "execution_count": null,
   "metadata": {
    "collapsed": true
   },
   "outputs": [],
   "source": []
  }
 ],
 "metadata": {
  "anaconda-cloud": {},
  "kernelspec": {
   "display_name": "Python [default]",
   "language": "python",
   "name": "python2"
  },
  "language_info": {
   "codemirror_mode": {
    "name": "ipython",
    "version": 2
   },
   "file_extension": ".py",
   "mimetype": "text/x-python",
   "name": "python",
   "nbconvert_exporter": "python",
   "pygments_lexer": "ipython2",
   "version": "2.7.12"
  }
 },
 "nbformat": 4,
 "nbformat_minor": 2
}
