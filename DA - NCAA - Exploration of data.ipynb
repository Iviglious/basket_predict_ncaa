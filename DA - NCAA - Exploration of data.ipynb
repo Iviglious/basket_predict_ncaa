{
 "cells": [
  {
   "cell_type": "markdown",
   "metadata": {},
   "source": [
    "# DA - March Machine Learning Mania 2017\n",
    "\n",
    "## Exploration of data"
   ]
  },
  {
   "cell_type": "code",
   "execution_count": 1,
   "metadata": {
    "collapsed": true
   },
   "outputs": [],
   "source": [
    "import numpy as np\n",
    "import pandas as pd"
   ]
  },
  {
   "cell_type": "code",
   "execution_count": 8,
   "metadata": {
    "collapsed": false
   },
   "outputs": [],
   "source": [
    "teams_df = pd.read_csv('/media/sf_QMUL_SD/DataAnalytics/CourseWork/data/Teams.csv')\n",
    "games_df = pd.read_csv('/media/sf_QMUL_SD/DataAnalytics/CourseWork/data/RegularSeasonCompactResults.csv')"
   ]
  },
  {
   "cell_type": "code",
   "execution_count": 32,
   "metadata": {
    "collapsed": false
   },
   "outputs": [
    {
     "name": "stdout",
     "output_type": "stream",
     "text": [
      "     Wteam  counts\n",
      "80    1181     819\n",
      "141   1242     804\n",
      "145   1246     765\n",
      "213   1314     761\n",
      "11    1112     746\n",
      "292   1393     738\n",
      "171   1272     692\n",
      "323   1424     685\n",
      "156   1257     682\n",
      "361   1462     681\n",
      "62    1163     679\n",
      "227   1328     673\n",
      "176   1277     667\n",
      "110   1211     663\n",
      "127   1228     660\n",
      "295   1396     656\n",
      "316   1417     655\n",
      "52    1153     652\n",
      "299   1400     652\n",
      "95    1196     644\n"
     ]
    }
   ],
   "source": [
    "games_count_df = games_df.groupby(['Wteam']).size().reset_index(name='counts').sort_values(by=['counts'], ascending=False)[:20]\n",
    "print(games_count_df)"
   ]
  },
  {
   "cell_type": "code",
   "execution_count": 33,
   "metadata": {
    "collapsed": false
   },
   "outputs": [
    {
     "name": "stdout",
     "output_type": "stream",
     "text": [
      "     Wteam  counts  Team_Id       Team_Name\n",
      "80    1181     819     1181            Duke\n",
      "141   1242     804     1242          Kansas\n",
      "145   1246     765     1246        Kentucky\n",
      "213   1314     761     1314  North Carolina\n",
      "11    1112     746     1112         Arizona\n",
      "292   1393     738     1393        Syracuse\n",
      "171   1272     692     1272         Memphis\n",
      "323   1424     685     1424            UNLV\n",
      "156   1257     682     1257      Louisville\n",
      "361   1462     681     1462          Xavier\n",
      "62    1163     679     1163     Connecticut\n",
      "227   1328     673     1328        Oklahoma\n",
      "176   1277     667     1277     Michigan St\n",
      "110   1211     663     1211         Gonzaga\n",
      "127   1228     660     1228        Illinois\n",
      "295   1396     656     1396          Temple\n",
      "316   1417     655     1417            UCLA\n",
      "52    1153     652     1153      Cincinnati\n",
      "299   1400     652     1400           Texas\n",
      "95    1196     644     1196         Florida\n"
     ]
    }
   ],
   "source": [
    "print(games_count_df.join(teams_df))"
   ]
  },
  {
   "cell_type": "code",
   "execution_count": null,
   "metadata": {
    "collapsed": true
   },
   "outputs": [],
   "source": []
  }
 ],
 "metadata": {
  "anaconda-cloud": {},
  "kernelspec": {
   "display_name": "Python [default]",
   "language": "python",
   "name": "python2"
  },
  "language_info": {
   "codemirror_mode": {
    "name": "ipython",
    "version": 2
   },
   "file_extension": ".py",
   "mimetype": "text/x-python",
   "name": "python",
   "nbconvert_exporter": "python",
   "pygments_lexer": "ipython2",
   "version": "2.7.12"
  }
 },
 "nbformat": 4,
 "nbformat_minor": 2
}
