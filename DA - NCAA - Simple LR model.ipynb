{
 "cells": [
  {
   "cell_type": "code",
   "execution_count": null,
   "metadata": {
    "collapsed": false
   },
   "outputs": [],
   "source": [
    "import numpy as np\n",
    "import pandas as pd\n",
    "from sklearn import linear_model, model_selection, metrics, svm"
   ]
  },
  {
   "cell_type": "code",
   "execution_count": null,
   "metadata": {
    "collapsed": false
   },
   "outputs": [],
   "source": [
    "data = pd.read_csv('dataset/All_PCBR_For_2002_2016_Matchup.csv')\n",
    "data.head()"
   ]
  },
  {
   "cell_type": "code",
   "execution_count": null,
   "metadata": {
    "collapsed": false
   },
   "outputs": [],
   "source": [
    "yTrain = data.WL.ravel()\n",
    "xTrain = data.drop(['WL','Season'], axis=1).values"
   ]
  },
  {
   "cell_type": "markdown",
   "metadata": {},
   "source": [
    "# Model and Cross validation\n",
    "I used logistic regression to build up my model and use log loss to evaluate the result. And I also show the score if all probabilities of each matchup is 0.5."
   ]
  },
  {
   "cell_type": "code",
   "execution_count": null,
   "metadata": {
    "collapsed": true
   },
   "outputs": [],
   "source": [
    "kf = model_selection.KFold(n_splits=10, shuffle=True)"
   ]
  },
  {
   "cell_type": "code",
   "execution_count": null,
   "metadata": {
    "collapsed": false
   },
   "outputs": [],
   "source": [
    "kf = model_selection.KFold(n_splits=10, shuffle=True)\n",
    "for train, test in kf.split(xTrain):\n",
    "    #print(\"%s %s\" % (train, test))\n",
    "    #print(xTrain[train])\n",
    "    logi = linear_model.LogisticRegression()\n",
    "    logi.fit(xTrain[train],yTrain[train])\n",
    "    pred = logi.predict_proba(xTrain[test])\n",
    "    print(\"pred: \" + str(metrics.log_loss(yTrain[test],pred[:,1])))\n",
    "    print(\"0.5: \" + str(metrics.log_loss(yTrain[test],np.ones(test.shape[0]) * 0.5)))"
   ]
  },
  {
   "cell_type": "code",
   "execution_count": null,
   "metadata": {
    "collapsed": false
   },
   "outputs": [],
   "source": [
    "for train, test in kf.split(xTrain):\n",
    "    lin = linear_model.LinearRegression()\n",
    "    lin.fit(xTrain[train], yTrain[train])\n",
    "    pred = lin.predict(xTrain[test])\n",
    "    print(\"pred: \" + str(metrics.log_loss(yTrain[test], pred)))"
   ]
  },
  {
   "cell_type": "code",
   "execution_count": null,
   "metadata": {
    "collapsed": true
   },
   "outputs": [],
   "source": [
    "for train, test in kf.split(xTrain):\n",
    "    svr = svm.SVR(kernel='poly')\n",
    "    svr.fit(xTrain[train], yTrain[train])\n",
    "    pred = svr.predict(xTrain[test])\n",
    "    print(\"pred: \" + str(metrics.log_loss(yTrain[test], pred)))\n",
    "    break"
   ]
  }
 ],
 "metadata": {
  "kernelspec": {
   "display_name": "Python 2",
   "language": "python",
   "name": "python2"
  },
  "language_info": {
   "codemirror_mode": {
    "name": "ipython",
    "version": 2
   },
   "file_extension": ".py",
   "mimetype": "text/x-python",
   "name": "python",
   "nbconvert_exporter": "python",
   "pygments_lexer": "ipython2",
   "version": "2.7.12"
  }
 },
 "nbformat": 4,
 "nbformat_minor": 2
}
