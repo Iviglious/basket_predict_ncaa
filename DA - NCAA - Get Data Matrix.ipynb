{
 "cells": [
  {
   "cell_type": "code",
   "execution_count": 1,
   "metadata": {
    "collapsed": true
   },
   "outputs": [],
   "source": [
    "import numpy as np\n",
    "import pandas as pd"
   ]
  },
  {
   "cell_type": "code",
   "execution_count": 2,
   "metadata": {
    "collapsed": false
   },
   "outputs": [],
   "source": [
    "mt = pd.read_csv('dataset/kaggle/TourneyCompactResults.csv')\n",
    "mr = pd.read_csv('dataset/kaggle/RegularSeasonCompactResults.csv')\n",
    "teams = pd.read_csv('dataset/kaggle/Teams.csv')\n",
    "\n",
    "pcbrl = list()\n",
    "for s in range(2002, 2017):\n",
    "    tmp = pd.read_csv('dataset/kenpom/PCBR_' + str(s) + '.csv')\n",
    "    tmp['Season'] = s\n",
    "    pcbrl.append(tmp)"
   ]
  },
  {
   "cell_type": "code",
   "execution_count": 3,
   "metadata": {
    "collapsed": false
   },
   "outputs": [],
   "source": [
    "#mt.loc[mt.Season.isin(range(2002,2017))]\n",
    "pcbr = pd.concat(pcbrl)\n",
    "pcbr.Season.astype('int')\n",
    "pcbr = pd.merge(pcbr, teams, how = 'left', left_on = 'Team', right_on='Team_Name')"
   ]
  },
  {
   "cell_type": "code",
   "execution_count": 4,
   "metadata": {
    "collapsed": false
   },
   "outputs": [],
   "source": [
    "#pcbr.query('Season == 2002 and Team_Id == 1401')\n",
    "#for i in range(2002,2017):\n",
    "#    c = pcbr[pcbr.Season == i]\n",
    "#    print(c[c.Team_Id.duplicated()])"
   ]
  },
  {
   "cell_type": "code",
   "execution_count": 5,
   "metadata": {
    "collapsed": false
   },
   "outputs": [
    {
     "data": {
      "text/plain": [
       "(147339, 8)"
      ]
     },
     "execution_count": 5,
     "metadata": {},
     "output_type": "execute_result"
    }
   ],
   "source": [
    "m = pd.concat([mt,mr])\n",
    "m.shape"
   ]
  },
  {
   "cell_type": "code",
   "execution_count": 6,
   "metadata": {
    "collapsed": false
   },
   "outputs": [],
   "source": [
    "m['Team1'] = m.apply(lambda x: x.Wteam if x.Wteam < x.Lteam else x.Lteam, axis=1)\n",
    "m['Team2'] = m.apply(lambda x: x.Lteam if x.Wteam < x.Lteam else x.Wteam, axis=1)\n",
    "m['WL'] = m.apply(lambda x: 1 if x.Wteam < x.Lteam else 0, axis=1)"
   ]
  },
  {
   "cell_type": "code",
   "execution_count": 7,
   "metadata": {
    "collapsed": false
   },
   "outputs": [
    {
     "data": {
      "text/html": [
       "<div>\n",
       "<table border=\"1\" class=\"dataframe\">\n",
       "  <thead>\n",
       "    <tr style=\"text-align: right;\">\n",
       "      <th></th>\n",
       "      <th>Season</th>\n",
       "      <th>Daynum</th>\n",
       "      <th>Wteam</th>\n",
       "      <th>Wscore</th>\n",
       "      <th>Lteam</th>\n",
       "      <th>Lscore</th>\n",
       "      <th>Wloc</th>\n",
       "      <th>Numot</th>\n",
       "      <th>Team1</th>\n",
       "      <th>Team2</th>\n",
       "      <th>WL</th>\n",
       "    </tr>\n",
       "  </thead>\n",
       "  <tbody>\n",
       "    <tr>\n",
       "      <th>0</th>\n",
       "      <td>1985</td>\n",
       "      <td>136</td>\n",
       "      <td>1116</td>\n",
       "      <td>63</td>\n",
       "      <td>1234</td>\n",
       "      <td>54</td>\n",
       "      <td>N</td>\n",
       "      <td>0</td>\n",
       "      <td>1116</td>\n",
       "      <td>1234</td>\n",
       "      <td>1</td>\n",
       "    </tr>\n",
       "    <tr>\n",
       "      <th>1</th>\n",
       "      <td>1985</td>\n",
       "      <td>136</td>\n",
       "      <td>1120</td>\n",
       "      <td>59</td>\n",
       "      <td>1345</td>\n",
       "      <td>58</td>\n",
       "      <td>N</td>\n",
       "      <td>0</td>\n",
       "      <td>1120</td>\n",
       "      <td>1345</td>\n",
       "      <td>1</td>\n",
       "    </tr>\n",
       "    <tr>\n",
       "      <th>2</th>\n",
       "      <td>1985</td>\n",
       "      <td>136</td>\n",
       "      <td>1207</td>\n",
       "      <td>68</td>\n",
       "      <td>1250</td>\n",
       "      <td>43</td>\n",
       "      <td>N</td>\n",
       "      <td>0</td>\n",
       "      <td>1207</td>\n",
       "      <td>1250</td>\n",
       "      <td>1</td>\n",
       "    </tr>\n",
       "    <tr>\n",
       "      <th>3</th>\n",
       "      <td>1985</td>\n",
       "      <td>136</td>\n",
       "      <td>1229</td>\n",
       "      <td>58</td>\n",
       "      <td>1425</td>\n",
       "      <td>55</td>\n",
       "      <td>N</td>\n",
       "      <td>0</td>\n",
       "      <td>1229</td>\n",
       "      <td>1425</td>\n",
       "      <td>1</td>\n",
       "    </tr>\n",
       "    <tr>\n",
       "      <th>4</th>\n",
       "      <td>1985</td>\n",
       "      <td>136</td>\n",
       "      <td>1242</td>\n",
       "      <td>49</td>\n",
       "      <td>1325</td>\n",
       "      <td>38</td>\n",
       "      <td>N</td>\n",
       "      <td>0</td>\n",
       "      <td>1242</td>\n",
       "      <td>1325</td>\n",
       "      <td>1</td>\n",
       "    </tr>\n",
       "    <tr>\n",
       "      <th>5</th>\n",
       "      <td>1985</td>\n",
       "      <td>136</td>\n",
       "      <td>1246</td>\n",
       "      <td>66</td>\n",
       "      <td>1449</td>\n",
       "      <td>58</td>\n",
       "      <td>N</td>\n",
       "      <td>0</td>\n",
       "      <td>1246</td>\n",
       "      <td>1449</td>\n",
       "      <td>1</td>\n",
       "    </tr>\n",
       "    <tr>\n",
       "      <th>6</th>\n",
       "      <td>1985</td>\n",
       "      <td>136</td>\n",
       "      <td>1256</td>\n",
       "      <td>78</td>\n",
       "      <td>1338</td>\n",
       "      <td>54</td>\n",
       "      <td>N</td>\n",
       "      <td>0</td>\n",
       "      <td>1256</td>\n",
       "      <td>1338</td>\n",
       "      <td>1</td>\n",
       "    </tr>\n",
       "    <tr>\n",
       "      <th>7</th>\n",
       "      <td>1985</td>\n",
       "      <td>136</td>\n",
       "      <td>1260</td>\n",
       "      <td>59</td>\n",
       "      <td>1233</td>\n",
       "      <td>58</td>\n",
       "      <td>N</td>\n",
       "      <td>0</td>\n",
       "      <td>1233</td>\n",
       "      <td>1260</td>\n",
       "      <td>0</td>\n",
       "    </tr>\n",
       "    <tr>\n",
       "      <th>8</th>\n",
       "      <td>1985</td>\n",
       "      <td>136</td>\n",
       "      <td>1314</td>\n",
       "      <td>76</td>\n",
       "      <td>1292</td>\n",
       "      <td>57</td>\n",
       "      <td>N</td>\n",
       "      <td>0</td>\n",
       "      <td>1292</td>\n",
       "      <td>1314</td>\n",
       "      <td>0</td>\n",
       "    </tr>\n",
       "    <tr>\n",
       "      <th>9</th>\n",
       "      <td>1985</td>\n",
       "      <td>136</td>\n",
       "      <td>1323</td>\n",
       "      <td>79</td>\n",
       "      <td>1333</td>\n",
       "      <td>70</td>\n",
       "      <td>N</td>\n",
       "      <td>0</td>\n",
       "      <td>1323</td>\n",
       "      <td>1333</td>\n",
       "      <td>1</td>\n",
       "    </tr>\n",
       "    <tr>\n",
       "      <th>10</th>\n",
       "      <td>1985</td>\n",
       "      <td>136</td>\n",
       "      <td>1326</td>\n",
       "      <td>75</td>\n",
       "      <td>1235</td>\n",
       "      <td>64</td>\n",
       "      <td>N</td>\n",
       "      <td>0</td>\n",
       "      <td>1235</td>\n",
       "      <td>1326</td>\n",
       "      <td>0</td>\n",
       "    </tr>\n",
       "    <tr>\n",
       "      <th>11</th>\n",
       "      <td>1985</td>\n",
       "      <td>136</td>\n",
       "      <td>1328</td>\n",
       "      <td>96</td>\n",
       "      <td>1299</td>\n",
       "      <td>83</td>\n",
       "      <td>N</td>\n",
       "      <td>0</td>\n",
       "      <td>1299</td>\n",
       "      <td>1328</td>\n",
       "      <td>0</td>\n",
       "    </tr>\n",
       "    <tr>\n",
       "      <th>12</th>\n",
       "      <td>1985</td>\n",
       "      <td>136</td>\n",
       "      <td>1374</td>\n",
       "      <td>85</td>\n",
       "      <td>1330</td>\n",
       "      <td>68</td>\n",
       "      <td>N</td>\n",
       "      <td>0</td>\n",
       "      <td>1330</td>\n",
       "      <td>1374</td>\n",
       "      <td>0</td>\n",
       "    </tr>\n",
       "    <tr>\n",
       "      <th>13</th>\n",
       "      <td>1985</td>\n",
       "      <td>136</td>\n",
       "      <td>1385</td>\n",
       "      <td>83</td>\n",
       "      <td>1380</td>\n",
       "      <td>59</td>\n",
       "      <td>N</td>\n",
       "      <td>0</td>\n",
       "      <td>1380</td>\n",
       "      <td>1385</td>\n",
       "      <td>0</td>\n",
       "    </tr>\n",
       "    <tr>\n",
       "      <th>14</th>\n",
       "      <td>1985</td>\n",
       "      <td>136</td>\n",
       "      <td>1396</td>\n",
       "      <td>60</td>\n",
       "      <td>1439</td>\n",
       "      <td>57</td>\n",
       "      <td>N</td>\n",
       "      <td>0</td>\n",
       "      <td>1396</td>\n",
       "      <td>1439</td>\n",
       "      <td>1</td>\n",
       "    </tr>\n",
       "    <tr>\n",
       "      <th>15</th>\n",
       "      <td>1985</td>\n",
       "      <td>136</td>\n",
       "      <td>1424</td>\n",
       "      <td>85</td>\n",
       "      <td>1361</td>\n",
       "      <td>80</td>\n",
       "      <td>N</td>\n",
       "      <td>0</td>\n",
       "      <td>1361</td>\n",
       "      <td>1424</td>\n",
       "      <td>0</td>\n",
       "    </tr>\n",
       "    <tr>\n",
       "      <th>16</th>\n",
       "      <td>1985</td>\n",
       "      <td>137</td>\n",
       "      <td>1104</td>\n",
       "      <td>50</td>\n",
       "      <td>1112</td>\n",
       "      <td>41</td>\n",
       "      <td>N</td>\n",
       "      <td>0</td>\n",
       "      <td>1104</td>\n",
       "      <td>1112</td>\n",
       "      <td>1</td>\n",
       "    </tr>\n",
       "    <tr>\n",
       "      <th>17</th>\n",
       "      <td>1985</td>\n",
       "      <td>137</td>\n",
       "      <td>1130</td>\n",
       "      <td>55</td>\n",
       "      <td>1403</td>\n",
       "      <td>53</td>\n",
       "      <td>N</td>\n",
       "      <td>0</td>\n",
       "      <td>1130</td>\n",
       "      <td>1403</td>\n",
       "      <td>1</td>\n",
       "    </tr>\n",
       "    <tr>\n",
       "      <th>18</th>\n",
       "      <td>1985</td>\n",
       "      <td>137</td>\n",
       "      <td>1181</td>\n",
       "      <td>75</td>\n",
       "      <td>1337</td>\n",
       "      <td>62</td>\n",
       "      <td>N</td>\n",
       "      <td>0</td>\n",
       "      <td>1181</td>\n",
       "      <td>1337</td>\n",
       "      <td>1</td>\n",
       "    </tr>\n",
       "    <tr>\n",
       "      <th>19</th>\n",
       "      <td>1985</td>\n",
       "      <td>137</td>\n",
       "      <td>1208</td>\n",
       "      <td>67</td>\n",
       "      <td>1455</td>\n",
       "      <td>59</td>\n",
       "      <td>N</td>\n",
       "      <td>0</td>\n",
       "      <td>1208</td>\n",
       "      <td>1455</td>\n",
       "      <td>1</td>\n",
       "    </tr>\n",
       "  </tbody>\n",
       "</table>\n",
       "</div>"
      ],
      "text/plain": [
       "    Season  Daynum  Wteam  Wscore  Lteam  Lscore Wloc  Numot  Team1  Team2  WL\n",
       "0     1985     136   1116      63   1234      54    N      0   1116   1234   1\n",
       "1     1985     136   1120      59   1345      58    N      0   1120   1345   1\n",
       "2     1985     136   1207      68   1250      43    N      0   1207   1250   1\n",
       "3     1985     136   1229      58   1425      55    N      0   1229   1425   1\n",
       "4     1985     136   1242      49   1325      38    N      0   1242   1325   1\n",
       "5     1985     136   1246      66   1449      58    N      0   1246   1449   1\n",
       "6     1985     136   1256      78   1338      54    N      0   1256   1338   1\n",
       "7     1985     136   1260      59   1233      58    N      0   1233   1260   0\n",
       "8     1985     136   1314      76   1292      57    N      0   1292   1314   0\n",
       "9     1985     136   1323      79   1333      70    N      0   1323   1333   1\n",
       "10    1985     136   1326      75   1235      64    N      0   1235   1326   0\n",
       "11    1985     136   1328      96   1299      83    N      0   1299   1328   0\n",
       "12    1985     136   1374      85   1330      68    N      0   1330   1374   0\n",
       "13    1985     136   1385      83   1380      59    N      0   1380   1385   0\n",
       "14    1985     136   1396      60   1439      57    N      0   1396   1439   1\n",
       "15    1985     136   1424      85   1361      80    N      0   1361   1424   0\n",
       "16    1985     137   1104      50   1112      41    N      0   1104   1112   1\n",
       "17    1985     137   1130      55   1403      53    N      0   1130   1403   1\n",
       "18    1985     137   1181      75   1337      62    N      0   1181   1337   1\n",
       "19    1985     137   1208      67   1455      59    N      0   1208   1455   1"
      ]
     },
     "execution_count": 7,
     "metadata": {},
     "output_type": "execute_result"
    }
   ],
   "source": [
    "m.head(20)"
   ]
  },
  {
   "cell_type": "code",
   "execution_count": 8,
   "metadata": {
    "collapsed": false
   },
   "outputs": [
    {
     "data": {
      "text/plain": [
       "(76774, 4)"
      ]
     },
     "execution_count": 8,
     "metadata": {},
     "output_type": "execute_result"
    }
   ],
   "source": [
    "data = m.loc[m.Season.isin(range(2002,2017)), ['Season','Team1','Team2','WL']]\n",
    "#data = m.loc[m.Season == 2002, ['Season','Team1','Team2','WL']]\n",
    "data.shape"
   ]
  },
  {
   "cell_type": "code",
   "execution_count": 9,
   "metadata": {
    "collapsed": false
   },
   "outputs": [
    {
     "data": {
      "text/plain": [
       "(76774, 19)"
      ]
     },
     "execution_count": 9,
     "metadata": {},
     "output_type": "execute_result"
    }
   ],
   "source": [
    "data = pd.merge(data, pcbr, left_on=['Season','Team1'], right_on=['Season', 'Team_Id'], how = 'left')\n",
    "data.shape"
   ]
  },
  {
   "cell_type": "code",
   "execution_count": 10,
   "metadata": {
    "collapsed": false
   },
   "outputs": [],
   "source": [
    "data = pd.merge(data, pcbr, left_on=['Season','Team2'], right_on=['Season', 'Team_Id'], how = 'left')"
   ]
  },
  {
   "cell_type": "code",
   "execution_count": 11,
   "metadata": {
    "collapsed": false
   },
   "outputs": [
    {
     "data": {
      "text/plain": [
       "Index([u'WL', u'AdjEM_x', u'AdjO_x', u'AdjD_x', u'AdjT_x', u'Luck_x',\n",
       "       u'SOS AdjEM_x', u'SOS OppO_x', u'SOS OppD_x', u'NCSOS AdjEM_x',\n",
       "       u'AdjEM_y', u'AdjO_y', u'AdjD_y', u'AdjT_y', u'Luck_y', u'SOS AdjEM_y',\n",
       "       u'SOS OppO_y', u'SOS OppD_y', u'NCSOS AdjEM_y'],\n",
       "      dtype='object')"
      ]
     },
     "execution_count": 11,
     "metadata": {},
     "output_type": "execute_result"
    }
   ],
   "source": [
    "data = data.drop(['Rank_x','Rank_y','Team_x','Team_y','Conf_x','Conf_y','W-L_x','W-L_y',\n",
    "                  'Team_Id_x','Team_Id_y','Team_Name_x','Team_Name_y','Season','Team1','Team2'], axis=1)\n",
    "data.columns"
   ]
  },
  {
   "cell_type": "code",
   "execution_count": 12,
   "metadata": {
    "collapsed": false
   },
   "outputs": [
    {
     "data": {
      "text/html": [
       "<div>\n",
       "<table border=\"1\" class=\"dataframe\">\n",
       "  <thead>\n",
       "    <tr style=\"text-align: right;\">\n",
       "      <th></th>\n",
       "      <th>WL</th>\n",
       "      <th>T1_AdjEM</th>\n",
       "      <th>T1_AdjO</th>\n",
       "      <th>T1_AdjD</th>\n",
       "      <th>T1_AdjT</th>\n",
       "      <th>T1_Luck</th>\n",
       "      <th>T1_SOSADjEM</th>\n",
       "      <th>T1_SOSOppO</th>\n",
       "      <th>T1_SOSOppD</th>\n",
       "      <th>T1_NCSOSAdjEM</th>\n",
       "      <th>T2_AdjEM</th>\n",
       "      <th>T2_AdjO</th>\n",
       "      <th>T2_AdjD</th>\n",
       "      <th>T2_AdjT</th>\n",
       "      <th>T2_Luck</th>\n",
       "      <th>T2_SOSADjEM</th>\n",
       "      <th>T2_SOSOppO</th>\n",
       "      <th>T2_SOSOppD</th>\n",
       "      <th>T2_NCSOSAdjEM</th>\n",
       "    </tr>\n",
       "  </thead>\n",
       "  <tbody>\n",
       "    <tr>\n",
       "      <th>0</th>\n",
       "      <td>0</td>\n",
       "      <td>-8.69</td>\n",
       "      <td>98.1</td>\n",
       "      <td>106.8</td>\n",
       "      <td>74.2</td>\n",
       "      <td>0.097</td>\n",
       "      <td>-15.24</td>\n",
       "      <td>93.2</td>\n",
       "      <td>108.4</td>\n",
       "      <td>-2.29</td>\n",
       "      <td>-1.20</td>\n",
       "      <td>98.6</td>\n",
       "      <td>99.8</td>\n",
       "      <td>68.9</td>\n",
       "      <td>-0.070</td>\n",
       "      <td>-3.90</td>\n",
       "      <td>98.7</td>\n",
       "      <td>102.6</td>\n",
       "      <td>-1.15</td>\n",
       "    </tr>\n",
       "    <tr>\n",
       "      <th>1</th>\n",
       "      <td>1</td>\n",
       "      <td>18.73</td>\n",
       "      <td>111.9</td>\n",
       "      <td>93.2</td>\n",
       "      <td>69.1</td>\n",
       "      <td>0.076</td>\n",
       "      <td>9.90</td>\n",
       "      <td>106.3</td>\n",
       "      <td>96.4</td>\n",
       "      <td>2.49</td>\n",
       "      <td>-2.48</td>\n",
       "      <td>97.5</td>\n",
       "      <td>100.0</td>\n",
       "      <td>71.6</td>\n",
       "      <td>0.061</td>\n",
       "      <td>-5.12</td>\n",
       "      <td>100.3</td>\n",
       "      <td>105.4</td>\n",
       "      <td>-5.36</td>\n",
       "    </tr>\n",
       "    <tr>\n",
       "      <th>2</th>\n",
       "      <td>1</td>\n",
       "      <td>20.52</td>\n",
       "      <td>117.2</td>\n",
       "      <td>96.7</td>\n",
       "      <td>73.0</td>\n",
       "      <td>0.080</td>\n",
       "      <td>14.48</td>\n",
       "      <td>109.9</td>\n",
       "      <td>95.4</td>\n",
       "      <td>18.68</td>\n",
       "      <td>8.90</td>\n",
       "      <td>106.1</td>\n",
       "      <td>97.2</td>\n",
       "      <td>64.8</td>\n",
       "      <td>-0.058</td>\n",
       "      <td>0.23</td>\n",
       "      <td>101.4</td>\n",
       "      <td>101.2</td>\n",
       "      <td>2.86</td>\n",
       "    </tr>\n",
       "    <tr>\n",
       "      <th>3</th>\n",
       "      <td>1</td>\n",
       "      <td>34.14</td>\n",
       "      <td>118.9</td>\n",
       "      <td>84.7</td>\n",
       "      <td>75.9</td>\n",
       "      <td>-0.027</td>\n",
       "      <td>10.09</td>\n",
       "      <td>107.8</td>\n",
       "      <td>97.7</td>\n",
       "      <td>7.52</td>\n",
       "      <td>-5.33</td>\n",
       "      <td>95.2</td>\n",
       "      <td>100.5</td>\n",
       "      <td>68.0</td>\n",
       "      <td>0.039</td>\n",
       "      <td>-10.81</td>\n",
       "      <td>95.4</td>\n",
       "      <td>106.2</td>\n",
       "      <td>-1.40</td>\n",
       "    </tr>\n",
       "    <tr>\n",
       "      <th>4</th>\n",
       "      <td>1</td>\n",
       "      <td>24.80</td>\n",
       "      <td>112.0</td>\n",
       "      <td>87.2</td>\n",
       "      <td>66.8</td>\n",
       "      <td>-0.049</td>\n",
       "      <td>13.66</td>\n",
       "      <td>109.0</td>\n",
       "      <td>95.4</td>\n",
       "      <td>13.51</td>\n",
       "      <td>14.11</td>\n",
       "      <td>109.4</td>\n",
       "      <td>95.2</td>\n",
       "      <td>63.6</td>\n",
       "      <td>0.011</td>\n",
       "      <td>5.87</td>\n",
       "      <td>104.9</td>\n",
       "      <td>99.0</td>\n",
       "      <td>3.57</td>\n",
       "    </tr>\n",
       "  </tbody>\n",
       "</table>\n",
       "</div>"
      ],
      "text/plain": [
       "   WL  T1_AdjEM  T1_AdjO  T1_AdjD  T1_AdjT  T1_Luck  T1_SOSADjEM  T1_SOSOppO  \\\n",
       "0   0     -8.69     98.1    106.8     74.2    0.097       -15.24        93.2   \n",
       "1   1     18.73    111.9     93.2     69.1    0.076         9.90       106.3   \n",
       "2   1     20.52    117.2     96.7     73.0    0.080        14.48       109.9   \n",
       "3   1     34.14    118.9     84.7     75.9   -0.027        10.09       107.8   \n",
       "4   1     24.80    112.0     87.2     66.8   -0.049        13.66       109.0   \n",
       "\n",
       "   T1_SOSOppD  T1_NCSOSAdjEM  T2_AdjEM  T2_AdjO  T2_AdjD  T2_AdjT  T2_Luck  \\\n",
       "0       108.4          -2.29     -1.20     98.6     99.8     68.9   -0.070   \n",
       "1        96.4           2.49     -2.48     97.5    100.0     71.6    0.061   \n",
       "2        95.4          18.68      8.90    106.1     97.2     64.8   -0.058   \n",
       "3        97.7           7.52     -5.33     95.2    100.5     68.0    0.039   \n",
       "4        95.4          13.51     14.11    109.4     95.2     63.6    0.011   \n",
       "\n",
       "   T2_SOSADjEM  T2_SOSOppO  T2_SOSOppD  T2_NCSOSAdjEM  \n",
       "0        -3.90        98.7       102.6          -1.15  \n",
       "1        -5.12       100.3       105.4          -5.36  \n",
       "2         0.23       101.4       101.2           2.86  \n",
       "3       -10.81        95.4       106.2          -1.40  \n",
       "4         5.87       104.9        99.0           3.57  "
      ]
     },
     "execution_count": 12,
     "metadata": {},
     "output_type": "execute_result"
    }
   ],
   "source": [
    "data.rename(columns={'AdjEM_x':'T1_AdjEM',\n",
    "                     'AdjO_x':'T1_AdjO',\n",
    "                     'AdjD_x':'T1_AdjD',\n",
    "                     'AdjT_x':'T1_AdjT',\n",
    "                     'Luck_x':'T1_Luck',\n",
    "                     'SOS AdjEM_x':'T1_SOSADjEM',\n",
    "                     'SOS OppO_x':'T1_SOSOppO',\n",
    "                     'SOS OppD_x':'T1_SOSOppD',\n",
    "                     'NCSOS AdjEM_x':'T1_NCSOSAdjEM',\n",
    "                     'AdjEM_y':'T2_AdjEM',\n",
    "                     'AdjO_y':'T2_AdjO',\n",
    "                     'AdjD_y':'T2_AdjD',\n",
    "                     'AdjT_y':'T2_AdjT',\n",
    "                     'Luck_y':'T2_Luck',\n",
    "                     'SOS AdjEM_y':'T2_SOSADjEM',\n",
    "                     'SOS OppO_y':'T2_SOSOppO',\n",
    "                     'SOS OppD_y':'T2_SOSOppD',\n",
    "                     'NCSOS AdjEM_y':'T2_NCSOSAdjEM'}, inplace=True)\n",
    "data.head()"
   ]
  },
  {
   "cell_type": "code",
   "execution_count": 13,
   "metadata": {
    "collapsed": false
   },
   "outputs": [
    {
     "data": {
      "text/plain": [
       "(76774, 19)"
      ]
     },
     "execution_count": 13,
     "metadata": {},
     "output_type": "execute_result"
    }
   ],
   "source": [
    "data.shape"
   ]
  },
  {
   "cell_type": "code",
   "execution_count": 14,
   "metadata": {
    "collapsed": true
   },
   "outputs": [],
   "source": [
    "data.to_csv('dataset/All_PCBR_For_2002_2016_Matchup.csv', index=False)"
   ]
  }
 ],
 "metadata": {
  "kernelspec": {
   "display_name": "Python 2",
   "language": "python",
   "name": "python2"
  },
  "language_info": {
   "codemirror_mode": {
    "name": "ipython",
    "version": 2
   },
   "file_extension": ".py",
   "mimetype": "text/x-python",
   "name": "python",
   "nbconvert_exporter": "python",
   "pygments_lexer": "ipython2",
   "version": "2.7.12"
  }
 },
 "nbformat": 4,
 "nbformat_minor": 2
}
