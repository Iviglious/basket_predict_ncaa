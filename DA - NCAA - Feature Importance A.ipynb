{
 "cells": [
  {
   "cell_type": "markdown",
   "metadata": {},
   "source": [
    "# DA - NCAA - Feature Selection\n",
    "\n",
    "## Suggestion A\n",
    "\n",
    "In this example we use Random Tree Forest method to evaluate the features.  \n",
    "It's a built in function of importance of features in the model.  "
   ]
  },
  {
   "cell_type": "code",
   "execution_count": 1,
   "metadata": {
    "collapsed": false
   },
   "outputs": [],
   "source": [
    "import numpy as np\n",
    "import pandas as pd\n",
    "from sklearn import linear_model, model_selection, metrics\n",
    "from sklearn.ensemble import RandomForestClassifier\n",
    "import matplotlib.pyplot as plt"
   ]
  },
  {
   "cell_type": "code",
   "execution_count": 2,
   "metadata": {
    "collapsed": false
   },
   "outputs": [
    {
     "data": {
      "text/html": [
       "<div>\n",
       "<table border=\"1\" class=\"dataframe\">\n",
       "  <thead>\n",
       "    <tr style=\"text-align: right;\">\n",
       "      <th></th>\n",
       "      <th>Season</th>\n",
       "      <th>WL</th>\n",
       "      <th>T1_AdjEM</th>\n",
       "      <th>T1_AdjO</th>\n",
       "      <th>T1_AdjD</th>\n",
       "      <th>T1_AdjT</th>\n",
       "      <th>T1_Luck</th>\n",
       "      <th>T1_SOSADjEM</th>\n",
       "      <th>T1_SOSOppO</th>\n",
       "      <th>T1_SOSOppD</th>\n",
       "      <th>T1_NCSOSAdjEM</th>\n",
       "      <th>T2_AdjEM</th>\n",
       "      <th>T2_AdjO</th>\n",
       "      <th>T2_AdjD</th>\n",
       "      <th>T2_AdjT</th>\n",
       "      <th>T2_Luck</th>\n",
       "      <th>T2_SOSADjEM</th>\n",
       "      <th>T2_SOSOppO</th>\n",
       "      <th>T2_SOSOppD</th>\n",
       "      <th>T2_NCSOSAdjEM</th>\n",
       "    </tr>\n",
       "  </thead>\n",
       "  <tbody>\n",
       "    <tr>\n",
       "      <th>0</th>\n",
       "      <td>2002</td>\n",
       "      <td>0</td>\n",
       "      <td>-8.69</td>\n",
       "      <td>98.1</td>\n",
       "      <td>106.8</td>\n",
       "      <td>74.2</td>\n",
       "      <td>0.097</td>\n",
       "      <td>-15.24</td>\n",
       "      <td>93.2</td>\n",
       "      <td>108.4</td>\n",
       "      <td>-2.29</td>\n",
       "      <td>-1.20</td>\n",
       "      <td>98.6</td>\n",
       "      <td>99.8</td>\n",
       "      <td>68.9</td>\n",
       "      <td>-0.070</td>\n",
       "      <td>-3.90</td>\n",
       "      <td>98.7</td>\n",
       "      <td>102.6</td>\n",
       "      <td>-1.15</td>\n",
       "    </tr>\n",
       "    <tr>\n",
       "      <th>1</th>\n",
       "      <td>2002</td>\n",
       "      <td>1</td>\n",
       "      <td>18.73</td>\n",
       "      <td>111.9</td>\n",
       "      <td>93.2</td>\n",
       "      <td>69.1</td>\n",
       "      <td>0.076</td>\n",
       "      <td>9.90</td>\n",
       "      <td>106.3</td>\n",
       "      <td>96.4</td>\n",
       "      <td>2.49</td>\n",
       "      <td>-2.48</td>\n",
       "      <td>97.5</td>\n",
       "      <td>100.0</td>\n",
       "      <td>71.6</td>\n",
       "      <td>0.061</td>\n",
       "      <td>-5.12</td>\n",
       "      <td>100.3</td>\n",
       "      <td>105.4</td>\n",
       "      <td>-5.36</td>\n",
       "    </tr>\n",
       "    <tr>\n",
       "      <th>2</th>\n",
       "      <td>2002</td>\n",
       "      <td>1</td>\n",
       "      <td>20.52</td>\n",
       "      <td>117.2</td>\n",
       "      <td>96.7</td>\n",
       "      <td>73.0</td>\n",
       "      <td>0.080</td>\n",
       "      <td>14.48</td>\n",
       "      <td>109.9</td>\n",
       "      <td>95.4</td>\n",
       "      <td>18.68</td>\n",
       "      <td>8.90</td>\n",
       "      <td>106.1</td>\n",
       "      <td>97.2</td>\n",
       "      <td>64.8</td>\n",
       "      <td>-0.058</td>\n",
       "      <td>0.23</td>\n",
       "      <td>101.4</td>\n",
       "      <td>101.2</td>\n",
       "      <td>2.86</td>\n",
       "    </tr>\n",
       "    <tr>\n",
       "      <th>3</th>\n",
       "      <td>2002</td>\n",
       "      <td>1</td>\n",
       "      <td>34.14</td>\n",
       "      <td>118.9</td>\n",
       "      <td>84.7</td>\n",
       "      <td>75.9</td>\n",
       "      <td>-0.027</td>\n",
       "      <td>10.09</td>\n",
       "      <td>107.8</td>\n",
       "      <td>97.7</td>\n",
       "      <td>7.52</td>\n",
       "      <td>-5.33</td>\n",
       "      <td>95.2</td>\n",
       "      <td>100.5</td>\n",
       "      <td>68.0</td>\n",
       "      <td>0.039</td>\n",
       "      <td>-10.81</td>\n",
       "      <td>95.4</td>\n",
       "      <td>106.2</td>\n",
       "      <td>-1.40</td>\n",
       "    </tr>\n",
       "    <tr>\n",
       "      <th>4</th>\n",
       "      <td>2002</td>\n",
       "      <td>1</td>\n",
       "      <td>24.80</td>\n",
       "      <td>112.0</td>\n",
       "      <td>87.2</td>\n",
       "      <td>66.8</td>\n",
       "      <td>-0.049</td>\n",
       "      <td>13.66</td>\n",
       "      <td>109.0</td>\n",
       "      <td>95.4</td>\n",
       "      <td>13.51</td>\n",
       "      <td>14.11</td>\n",
       "      <td>109.4</td>\n",
       "      <td>95.2</td>\n",
       "      <td>63.6</td>\n",
       "      <td>0.011</td>\n",
       "      <td>5.87</td>\n",
       "      <td>104.9</td>\n",
       "      <td>99.0</td>\n",
       "      <td>3.57</td>\n",
       "    </tr>\n",
       "  </tbody>\n",
       "</table>\n",
       "</div>"
      ],
      "text/plain": [
       "   Season  WL  T1_AdjEM  T1_AdjO  T1_AdjD  T1_AdjT  T1_Luck  T1_SOSADjEM  \\\n",
       "0    2002   0     -8.69     98.1    106.8     74.2    0.097       -15.24   \n",
       "1    2002   1     18.73    111.9     93.2     69.1    0.076         9.90   \n",
       "2    2002   1     20.52    117.2     96.7     73.0    0.080        14.48   \n",
       "3    2002   1     34.14    118.9     84.7     75.9   -0.027        10.09   \n",
       "4    2002   1     24.80    112.0     87.2     66.8   -0.049        13.66   \n",
       "\n",
       "   T1_SOSOppO  T1_SOSOppD  T1_NCSOSAdjEM  T2_AdjEM  T2_AdjO  T2_AdjD  T2_AdjT  \\\n",
       "0        93.2       108.4          -2.29     -1.20     98.6     99.8     68.9   \n",
       "1       106.3        96.4           2.49     -2.48     97.5    100.0     71.6   \n",
       "2       109.9        95.4          18.68      8.90    106.1     97.2     64.8   \n",
       "3       107.8        97.7           7.52     -5.33     95.2    100.5     68.0   \n",
       "4       109.0        95.4          13.51     14.11    109.4     95.2     63.6   \n",
       "\n",
       "   T2_Luck  T2_SOSADjEM  T2_SOSOppO  T2_SOSOppD  T2_NCSOSAdjEM  \n",
       "0   -0.070        -3.90        98.7       102.6          -1.15  \n",
       "1    0.061        -5.12       100.3       105.4          -5.36  \n",
       "2   -0.058         0.23       101.4       101.2           2.86  \n",
       "3    0.039       -10.81        95.4       106.2          -1.40  \n",
       "4    0.011         5.87       104.9        99.0           3.57  "
      ]
     },
     "execution_count": 2,
     "metadata": {},
     "output_type": "execute_result"
    }
   ],
   "source": [
    "data = pd.read_csv('dataset/All_PCBR_For_2002_2016_Matchup.csv')\n",
    "data.head()"
   ]
  },
  {
   "cell_type": "code",
   "execution_count": 3,
   "metadata": {
    "collapsed": false
   },
   "outputs": [],
   "source": [
    "# range goes until 2017 not including (until 2016 including)\n",
    "X_train = data.loc[data.Season.isin(range(2002, 2017))].drop(['WL','Season'], axis=1)\n",
    "y_train = data.loc[data.Season.isin(range(2002, 2017))].WL"
   ]
  },
  {
   "cell_type": "code",
   "execution_count": 4,
   "metadata": {
    "collapsed": false,
    "scrolled": true
   },
   "outputs": [
    {
     "name": "stdout",
     "output_type": "stream",
     "text": [
      "RF Started...\n",
      "Feature ranking:\n",
      "1. feature 0 (0.132463) T1_AdjEM\n",
      "2. feature 9 (0.124844) T2_AdjEM\n",
      "3. feature 10 (0.082099) T2_AdjO\n",
      "4. feature 1 (0.079661) T1_AdjO\n",
      "5. feature 11 (0.065771) T2_AdjD\n",
      "6. feature 2 (0.062851) T1_AdjD\n",
      "7. feature 4 (0.045396) T1_Luck\n",
      "8. feature 13 (0.045357) T2_Luck\n",
      "9. feature 14 (0.043963) T2_SOSADjEM\n",
      "10. feature 5 (0.043282) T1_SOSADjEM\n",
      "11. feature 7 (0.036335) T1_SOSOppD\n",
      "12. feature 8 (0.035578) T1_NCSOSAdjEM\n",
      "13. feature 16 (0.034597) T2_SOSOppD\n",
      "14. feature 6 (0.034424) T1_SOSOppO\n",
      "15. feature 17 (0.034158) T2_NCSOSAdjEM\n",
      "16. feature 15 (0.033208) T2_SOSOppO\n",
      "17. feature 3 (0.033127) T1_AdjT\n",
      "18. feature 12 (0.032889) T2_AdjT\n"
     ]
    }
   ],
   "source": [
    "# Feauture Importance\n",
    "print(\"RF Started...\")\n",
    "random_state = np.random.RandomState(0)\n",
    "\n",
    "cls_rf = RandomForestClassifier(n_estimators = 100, random_state=random_state)\n",
    "cls_rf = cls_rf.fit(X_train, y_train)\n",
    "\n",
    "importances = cls_rf.feature_importances_\n",
    "std = np.std([tree.feature_importances_ for tree in cls_rf.estimators_], axis=0)\n",
    "indices = np.argsort(importances)[::-1]\n",
    "\n",
    "# Print the feature ranking\n",
    "print(\"Feature ranking:\")\n",
    "\n",
    "for f in range(X_train.shape[1]):\n",
    "    print(\"%d. feature %d (%f) %s\" % (f + 1, indices[f], importances[indices[f]], X_train.columns[indices[f]]))"
   ]
  },
  {
   "cell_type": "code",
   "execution_count": 5,
   "metadata": {
    "collapsed": false
   },
   "outputs": [
    {
     "data": {
      "image/png": "[encoded data removed]",
      "text/plain": [
       "<matplotlib.figure.Figure at 0x7f202f66ce10>"
      ]
     },
     "metadata": {},
     "output_type": "display_data"
    }
   ],
   "source": [
    "# Plot the feature importances of the forest\n",
    "plt.figure()\n",
    "plt.title(\"Feature importances\")\n",
    "plt.bar(range(X_train.shape[1]), importances[indices],\n",
    "       color=\"r\", yerr=std[indices], align=\"center\")\n",
    "plt.xticks(range(X_train.shape[1]), indices)\n",
    "plt.xlim([-1, X_train.shape[1]])\n",
    "plt.show()"
   ]
  },
  {
   "cell_type": "code",
   "execution_count": null,
   "metadata": {
    "collapsed": true
   },
   "outputs": [],
   "source": []
  }
 ],
 "metadata": {
  "anaconda-cloud": {},
  "kernelspec": {
   "display_name": "Python [default]",
   "language": "python",
   "name": "python2"
  },
  "language_info": {
   "codemirror_mode": {
    "name": "ipython",
    "version": 2
   },
   "file_extension": ".py",
   "mimetype": "text/x-python",
   "name": "python",
   "nbconvert_exporter": "python",
   "pygments_lexer": "ipython2",
   "version": "2.7.12"
  }
 },
 "nbformat": 4,
 "nbformat_minor": 2
}
