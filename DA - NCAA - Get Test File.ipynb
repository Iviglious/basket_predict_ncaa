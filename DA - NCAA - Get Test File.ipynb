{
 "cells": [
  {
   "cell_type": "code",
   "execution_count": 1,
   "metadata": {
    "collapsed": true
   },
   "outputs": [],
   "source": [
    "import numpy as np\n",
    "import pandas as pd"
   ]
  },
  {
   "cell_type": "code",
   "execution_count": 2,
   "metadata": {
    "collapsed": false
   },
   "outputs": [
    {
     "data": {
      "text/html": [
       "<div>\n",
       "<table border=\"1\" class=\"dataframe\">\n",
       "  <thead>\n",
       "    <tr style=\"text-align: right;\">\n",
       "      <th></th>\n",
       "      <th>Season</th>\n",
       "      <th>Daynum</th>\n",
       "      <th>Wteam</th>\n",
       "      <th>Wscore</th>\n",
       "      <th>Lteam</th>\n",
       "      <th>Lscore</th>\n",
       "      <th>Wloc</th>\n",
       "      <th>Numot</th>\n",
       "    </tr>\n",
       "  </thead>\n",
       "  <tbody>\n",
       "    <tr>\n",
       "      <th>0</th>\n",
       "      <td>1985</td>\n",
       "      <td>136</td>\n",
       "      <td>1116</td>\n",
       "      <td>63</td>\n",
       "      <td>1234</td>\n",
       "      <td>54</td>\n",
       "      <td>N</td>\n",
       "      <td>0</td>\n",
       "    </tr>\n",
       "    <tr>\n",
       "      <th>1</th>\n",
       "      <td>1985</td>\n",
       "      <td>136</td>\n",
       "      <td>1120</td>\n",
       "      <td>59</td>\n",
       "      <td>1345</td>\n",
       "      <td>58</td>\n",
       "      <td>N</td>\n",
       "      <td>0</td>\n",
       "    </tr>\n",
       "    <tr>\n",
       "      <th>2</th>\n",
       "      <td>1985</td>\n",
       "      <td>136</td>\n",
       "      <td>1207</td>\n",
       "      <td>68</td>\n",
       "      <td>1250</td>\n",
       "      <td>43</td>\n",
       "      <td>N</td>\n",
       "      <td>0</td>\n",
       "    </tr>\n",
       "    <tr>\n",
       "      <th>3</th>\n",
       "      <td>1985</td>\n",
       "      <td>136</td>\n",
       "      <td>1229</td>\n",
       "      <td>58</td>\n",
       "      <td>1425</td>\n",
       "      <td>55</td>\n",
       "      <td>N</td>\n",
       "      <td>0</td>\n",
       "    </tr>\n",
       "    <tr>\n",
       "      <th>4</th>\n",
       "      <td>1985</td>\n",
       "      <td>136</td>\n",
       "      <td>1242</td>\n",
       "      <td>49</td>\n",
       "      <td>1325</td>\n",
       "      <td>38</td>\n",
       "      <td>N</td>\n",
       "      <td>0</td>\n",
       "    </tr>\n",
       "  </tbody>\n",
       "</table>\n",
       "</div>"
      ],
      "text/plain": [
       "   Season  Daynum  Wteam  Wscore  Lteam  Lscore Wloc  Numot\n",
       "0    1985     136   1116      63   1234      54    N      0\n",
       "1    1985     136   1120      59   1345      58    N      0\n",
       "2    1985     136   1207      68   1250      43    N      0\n",
       "3    1985     136   1229      58   1425      55    N      0\n",
       "4    1985     136   1242      49   1325      38    N      0"
      ]
     },
     "execution_count": 2,
     "metadata": {},
     "output_type": "execute_result"
    }
   ],
   "source": [
    "tny = pd.read_csv('dataset/TourneyCompactResults.csv')\n",
    "tny.head()"
   ]
  },
  {
   "cell_type": "code",
   "execution_count": 3,
   "metadata": {
    "collapsed": false
   },
   "outputs": [
    {
     "data": {
      "text/plain": [
       "array([1112, 1114, 1122, 1124, 1138, 1139, 1143, 1151, 1153, 1160, 1163,\n",
       "       1167, 1173, 1181, 1192, 1195, 1201, 1211, 1214, 1218, 1221, 1231,\n",
       "       1233, 1234, 1235, 1242, 1246, 1268, 1274, 1276, 1277, 1292, 1314,\n",
       "       1320, 1323, 1328, 1332, 1333, 1338, 1344, 1345, 1355, 1371, 1372,\n",
       "       1380, 1386, 1392, 1393, 1396, 1400, 1401, 1403, 1409, 1421, 1423,\n",
       "       1425, 1428, 1433, 1435, 1437, 1438, 1451, 1452, 1453, 1455, 1458,\n",
       "       1462, 1463])"
      ]
     },
     "execution_count": 3,
     "metadata": {},
     "output_type": "execute_result"
    }
   ],
   "source": [
    "data = tny[tny.Season == 2016]\n",
    "np.sort(data.Wteam.append(data.Lteam, ignore_index=True).unique())"
   ]
  },
  {
   "cell_type": "code",
   "execution_count": 4,
   "metadata": {
    "collapsed": true
   },
   "outputs": [],
   "source": [
    "def get_test(tny, season):\n",
    "    data = tny[tny.Season == season]\n",
    "    tmid = np.sort(data.Wteam.append(data.Lteam, ignore_index=True).unique())\n",
    "    l = list()\n",
    "    for t1 in tmid:\n",
    "        for t2 in tmid:\n",
    "            if t2 > t1:\n",
    "                l.append(str(season) + \"_\" + str(t1) + \"_\" + str(t2))\n",
    "    p = pd.DataFrame(pd.Series(l), columns=['Id'])\n",
    "    p['Pred'] = 0.5\n",
    "    return p"
   ]
  },
  {
   "cell_type": "code",
   "execution_count": 5,
   "metadata": {
    "collapsed": false
   },
   "outputs": [
    {
     "name": "stdout",
     "output_type": "stream",
     "text": [
      "                  Id  Pred\n",
      "0     2014_1107_1110   0.5\n",
      "1     2014_1107_1112   0.5\n",
      "2     2014_1107_1113   0.5\n",
      "3     2014_1107_1124   0.5\n",
      "4     2014_1107_1140   0.5\n",
      "5     2014_1107_1142   0.5\n",
      "6     2014_1107_1153   0.5\n",
      "7     2014_1107_1157   0.5\n",
      "8     2014_1107_1160   0.5\n",
      "9     2014_1107_1163   0.5\n",
      "10    2014_1107_1166   0.5\n",
      "11    2014_1107_1173   0.5\n",
      "12    2014_1107_1174   0.5\n",
      "13    2014_1107_1181   0.5\n",
      "14    2014_1107_1184   0.5\n",
      "15    2014_1107_1196   0.5\n",
      "16    2014_1107_1203   0.5\n",
      "17    2014_1107_1211   0.5\n",
      "18    2014_1107_1217   0.5\n",
      "19    2014_1107_1234   0.5\n",
      "20    2014_1107_1235   0.5\n",
      "21    2014_1107_1242   0.5\n",
      "22    2014_1107_1243   0.5\n",
      "23    2014_1107_1246   0.5\n",
      "24    2014_1107_1257   0.5\n",
      "25    2014_1107_1264   0.5\n",
      "26    2014_1107_1269   0.5\n",
      "27    2014_1107_1272   0.5\n",
      "28    2014_1107_1273   0.5\n",
      "29    2014_1107_1276   0.5\n",
      "...              ...   ...\n",
      "2248  2014_1437_1459   0.5\n",
      "2249  2014_1437_1462   0.5\n",
      "2250  2014_1438_1444   0.5\n",
      "2251  2014_1438_1451   0.5\n",
      "2252  2014_1438_1454   0.5\n",
      "2253  2014_1438_1455   0.5\n",
      "2254  2014_1438_1458   0.5\n",
      "2255  2014_1438_1459   0.5\n",
      "2256  2014_1438_1462   0.5\n",
      "2257  2014_1444_1451   0.5\n",
      "2258  2014_1444_1454   0.5\n",
      "2259  2014_1444_1455   0.5\n",
      "2260  2014_1444_1458   0.5\n",
      "2261  2014_1444_1459   0.5\n",
      "2262  2014_1444_1462   0.5\n",
      "2263  2014_1451_1454   0.5\n",
      "2264  2014_1451_1455   0.5\n",
      "2265  2014_1451_1458   0.5\n",
      "2266  2014_1451_1459   0.5\n",
      "2267  2014_1451_1462   0.5\n",
      "2268  2014_1454_1455   0.5\n",
      "2269  2014_1454_1458   0.5\n",
      "2270  2014_1454_1459   0.5\n",
      "2271  2014_1454_1462   0.5\n",
      "2272  2014_1455_1458   0.5\n",
      "2273  2014_1455_1459   0.5\n",
      "2274  2014_1455_1462   0.5\n",
      "2275  2014_1458_1459   0.5\n",
      "2276  2014_1458_1462   0.5\n",
      "2277  2014_1459_1462   0.5\n",
      "\n",
      "[2278 rows x 2 columns]\n"
     ]
    }
   ],
   "source": [
    "print(get_test(tny, 2014))"
   ]
  },
  {
   "cell_type": "code",
   "execution_count": 6,
   "metadata": {
    "collapsed": false
   },
   "outputs": [],
   "source": [
    "for ss in range(2002, 2017):\n",
    "    test = get_test(tny, ss)\n",
    "    test.to_csv('dataset/sample_submission_' + str(ss) + \".csv\")"
   ]
  }
 ],
 "metadata": {
  "kernelspec": {
   "display_name": "Python 2",
   "language": "python",
   "name": "python2"
  },
  "language_info": {
   "codemirror_mode": {
    "name": "ipython",
    "version": 2
   },
   "file_extension": ".py",
   "mimetype": "text/x-python",
   "name": "python",
   "nbconvert_exporter": "python",
   "pygments_lexer": "ipython2",
   "version": "2.7.12"
  }
 },
 "nbformat": 4,
 "nbformat_minor": 2
}
