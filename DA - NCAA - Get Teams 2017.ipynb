{
 "cells": [
  {
   "cell_type": "markdown",
   "metadata": {},
   "source": [
    "# DA - March Machine Learning Mania 2017\n",
    "\n",
    "## Get the teams selected for 2017"
   ]
  },
  {
   "cell_type": "code",
   "execution_count": 1,
   "metadata": {
    "collapsed": true
   },
   "outputs": [],
   "source": [
    "import numpy as np\n",
    "import pandas as pd"
   ]
  },
  {
   "cell_type": "code",
   "execution_count": 2,
   "metadata": {
    "collapsed": false
   },
   "outputs": [
    {
     "name": "stdout",
     "output_type": "stream",
     "text": [
      "               Id  Pred\n",
      "0  2017_1112_1116   0.5\n",
      "1  2017_1112_1124   0.5\n",
      "2  2017_1112_1137   0.5\n",
      "3  2017_1112_1139   0.5\n",
      "4  2017_1112_1153   0.5\n"
     ]
    }
   ],
   "source": [
    "submission_df = pd.read_csv('dataset/sample_submission.csv')\n",
    "print(submission_df.head())"
   ]
  },
  {
   "cell_type": "code",
   "execution_count": 18,
   "metadata": {
    "collapsed": false
   },
   "outputs": [
    {
     "name": "stdout",
     "output_type": "stream",
     "text": [
      "0    1112\n",
      "1    1116\n",
      "2    1124\n",
      "3    1137\n",
      "4    1139\n",
      "Name: Id, dtype: int64\n",
      "63    1452\n",
      "64    1455\n",
      "65    1457\n",
      "66    1458\n",
      "67    1462\n",
      "Name: Id, dtype: int64\n"
     ]
    }
   ],
   "source": [
    "all_teams_df = pd.DataFrame()\n",
    "teams_a_df = pd.DataFrame()\n",
    "teams_b_df = pd.DataFrame()\n",
    "\n",
    "teams_a_df['Id'] = submission_df['Id'].str[5:9].unique()\n",
    "teams_b_df['Id'] = submission_df['Id'].str[10:].unique()\n",
    "all_teams_df['Id'] = pd.concat([teams_a_df['Id'], teams_b_df['Id']]).sort_values().unique().astype('int')\n",
    "\n",
    "print(all_teams_df['Id'].head())\n",
    "print(all_teams_df['Id'].tail())"
   ]
  },
  {
   "cell_type": "code",
   "execution_count": 20,
   "metadata": {
    "collapsed": false
   },
   "outputs": [
    {
     "name": "stdout",
     "output_type": "stream",
     "text": [
      "   Team_Id Team_Name\n",
      "0     1112   Arizona\n",
      "1     1116  Arkansas\n",
      "2     1124    Baylor\n",
      "3     1137  Bucknell\n",
      "4     1139    Butler\n",
      "    Team_Id      Team_Name\n",
      "63     1452  West Virginia\n",
      "64     1455     Wichita St\n",
      "65     1457       Winthrop\n",
      "66     1458      Wisconsin\n",
      "67     1462         Xavier\n"
     ]
    }
   ],
   "source": [
    "# Join with Teams to get the name of the team\n",
    "teams_lkp_df = pd.read_csv('dataset/Teams.csv')\n",
    "final_teams_df = pd.merge(all_teams_df, teams_lkp_df, how='inner', left_on='Id', right_on='Team_Id')[['Team_Id','Team_Name']]\n",
    "print(final_teams_df.head())\n",
    "print(final_teams_df.tail())"
   ]
  },
  {
   "cell_type": "code",
   "execution_count": 21,
   "metadata": {
    "collapsed": true
   },
   "outputs": [],
   "source": [
    "final_teams_df.to_csv(path_or_buf='dataset/Teams2017.csv', index=False)"
   ]
  },
  {
   "cell_type": "code",
   "execution_count": null,
   "metadata": {
    "collapsed": true
   },
   "outputs": [],
   "source": []
  }
 ],
 "metadata": {
  "anaconda-cloud": {},
  "kernelspec": {
   "display_name": "Python [default]",
   "language": "python",
   "name": "python2"
  },
  "language_info": {
   "codemirror_mode": {
    "name": "ipython",
    "version": 2
   },
   "file_extension": ".py",
   "mimetype": "text/x-python",
   "name": "python",
   "nbconvert_exporter": "python",
   "pygments_lexer": "ipython2",
   "version": "2.7.12"
  }
 },
 "nbformat": 4,
 "nbformat_minor": 2
}
