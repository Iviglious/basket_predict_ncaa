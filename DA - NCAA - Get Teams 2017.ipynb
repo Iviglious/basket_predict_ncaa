{
 "cells": [
  {
   "cell_type": "markdown",
   "metadata": {},
   "source": [
    "# DA - March Machine Learning Mania 2017\n",
    "\n",
    "## Get the teams selected for 2017"
   ]
  },
  {
   "cell_type": "code",
   "execution_count": 1,
   "metadata": {
    "collapsed": true
   },
   "outputs": [],
   "source": [
    "import numpy as np\n",
    "import pandas as pd"
   ]
  },
  {
   "cell_type": "code",
   "execution_count": 2,
   "metadata": {
    "collapsed": false
   },
   "outputs": [
    {
     "name": "stdout",
     "output_type": "stream",
     "text": [
      "               Id  Pred\n",
      "0  2017_1112_1116   0.5\n",
      "1  2017_1112_1124   0.5\n",
      "2  2017_1112_1137   0.5\n",
      "3  2017_1112_1139   0.5\n",
      "4  2017_1112_1153   0.5\n"
     ]
    }
   ],
   "source": [
    "submission_df = pd.read_csv('/media/sf_QMUL_SD/DataAnalytics/CourseWork/data/SampleSubmission.csv')\n",
    "print(submission_df.head())"
   ]
  },
  {
   "cell_type": "code",
   "execution_count": 45,
   "metadata": {
    "collapsed": false
   },
   "outputs": [
    {
     "name": "stdout",
     "output_type": "stream",
     "text": [
      "0    1112\n",
      "1    1116\n",
      "2    1124\n",
      "3    1137\n",
      "4    1139\n",
      "Name: Id, dtype: object\n",
      "63    1452\n",
      "64    1455\n",
      "65    1457\n",
      "66    1458\n",
      "67    1462\n",
      "Name: Id, dtype: object\n"
     ]
    }
   ],
   "source": [
    "all_teams_df = pd.DataFrame()\n",
    "teams_a_df = pd.DataFrame()\n",
    "teams_b_df = pd.DataFrame()\n",
    "\n",
    "teams_a_df['Id'] = submission_df['Id'].str[5:9].unique()\n",
    "teams_b_df['Id'] = submission_df['Id'].str[10:].unique()\n",
    "all_teams_df['Id'] = pd.concat([teams_a_df['Id'], teams_b_df['Id']]).sort_values().unique()\n",
    "\n",
    "print(all_teams_df['Id'].head())\n",
    "print(all_teams_df['Id'].tail())"
   ]
  },
  {
   "cell_type": "code",
   "execution_count": 49,
   "metadata": {
    "collapsed": false
   },
   "outputs": [],
   "source": [
    "all_teams_df.to_csv(path_or_buf='/media/sf_QMUL_SD/DataAnalytics/CourseWork/data/teams2017.csv', index=False)"
   ]
  },
  {
   "cell_type": "code",
   "execution_count": null,
   "metadata": {
    "collapsed": true
   },
   "outputs": [],
   "source": []
  }
 ],
 "metadata": {
  "anaconda-cloud": {},
  "kernelspec": {
   "display_name": "Python 2",
   "language": "python",
   "name": "python2"
  },
  "language_info": {
   "codemirror_mode": {
    "name": "ipython",
    "version": 2
   },
   "file_extension": ".py",
   "mimetype": "text/x-python",
   "name": "python",
   "nbconvert_exporter": "python",
   "pygments_lexer": "ipython2",
   "version": "2.7.12"
  }
 },
 "nbformat": 4,
 "nbformat_minor": 2
}
